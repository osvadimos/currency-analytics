{
 "cells": [
  {
   "cell_type": "markdown",
   "metadata": {
    "collapsed": true
   },
   "source": [
    "Iterate all files first and create dataframes. "
   ]
  },
  {
   "cell_type": "code",
   "execution_count": 1,
   "metadata": {},
   "outputs": [],
   "source": [
    "import os\n",
    "import glob\n",
    "import json\n",
    "    "
   ]
  },
  {
   "cell_type": "code",
   "execution_count": 4,
   "metadata": {},
   "outputs": [
    {
     "data": {
      "text/plain": [
       "76"
      ]
     },
     "execution_count": 4,
     "metadata": {},
     "output_type": "execute_result"
    }
   ],
   "source": [
    "with open(\"../file_storage/exchange_info.json\", \"r\") as markets:\n",
    "    markets_content = markets.read()\n",
    "    markets.close()\n",
    "markets_object = json.loads(markets_content)\n",
    "len(markets_object['symbols'])"
   ]
  },
  {
   "cell_type": "code",
   "execution_count": 11,
   "metadata": {},
   "outputs": [
    {
     "name": "stdout",
     "output_type": "stream",
     "text": [
      "ETH/EUR\n",
      "ETH/USD\n",
      "BCH/BTC\n",
      "ALRSru\n",
      "MTSSru\n",
      "BTC/USDT\n",
      "VTBRru\n",
      "CHMFru\n",
      "RTKMru\n",
      "COMP/USD\n",
      "XRP/USD\n",
      "XRP/EUR\n",
      "LTC/USD\n",
      "LINK/USDT\n",
      "TATNru\n",
      "KARMA\n",
      "KARMA\n",
      "KARMA\n",
      "GAZPru\n",
      "HYDRru\n",
      "FEESru\n",
      "MAGNru\n",
      "SIBNru\n",
      "UNI/USD\n",
      "GMKNru\n",
      "LTC/BTC\n",
      "XRP/BTC\n",
      "UNI/USDT\n",
      "NVTKru\n",
      "KARMA\n",
      "KARMA\n",
      "ENRUru\n",
      "KARMA\n",
      "SBERPru\n",
      "SBERru\n",
      "YNDXru\n",
      "SNGSru\n",
      "IRAOru\n",
      "AFLTru\n",
      "CBOMru\n",
      "LINK/USD\n",
      "MVIDru\n",
      "MRKCru\n",
      "MRKUru\n",
      "AFKSru\n",
      "BTC/EUR\n",
      "ETH/BTC\n",
      "BTC/USD\n",
      "COMP/USDT\n",
      "BCH/USD\n",
      "RTP1\n",
      "RTPX\n",
      "RTPE\n",
      "RTPF\n",
      "RTPC\n",
      "RTPI\n",
      "BSPBru\n",
      "ROSNru\n",
      "LSRGru\n",
      "MSRSru\n",
      "AKRNru\n",
      "MOEXru\n",
      "POLYru\n",
      "MSNGru\n",
      "MGNTru\n",
      "LKOHru\n",
      "DSKYru\n",
      "BTC/USD_LEVERAGE\n",
      "ETH/USD_LEVERAGE\n",
      "LTC/USD_LEVERAGE\n",
      "XRP/USD_LEVERAGE\n",
      "LTC/BTC_LEVERAGE\n",
      "ETH/EUR_LEVERAGE\n",
      "BTC/EUR_LEVERAGE\n",
      "BCH/USD_LEVERAGE\n",
      "ETH/BTC_LEVERAGE\n"
     ]
    }
   ],
   "source": [
    "symbols = markets_object['symbols']\n",
    "for index in range(len(symbols)):\n",
    "    \n",
    "    print(symbols[index]['symbol'])\n"
   ]
  }
 ],
 "metadata": {
  "kernelspec": {
   "display_name": "Python 3",
   "language": "python",
   "name": "python3"
  },
  "language_info": {
   "codemirror_mode": {
    "name": "ipython",
    "version": 3
   },
   "file_extension": ".py",
   "mimetype": "text/x-python",
   "name": "python",
   "nbconvert_exporter": "python",
   "pygments_lexer": "ipython3",
   "version": "3.8.5"
  }
 },
 "nbformat": 4,
 "nbformat_minor": 1
}