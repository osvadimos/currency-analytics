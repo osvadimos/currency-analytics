{
 "cells": [
  {
   "cell_type": "markdown",
   "metadata": {
    "collapsed": true
   },
   "source": [
    "Iterate all files first and create dataframes. "
   ]
  },
  {
   "cell_type": "code",
   "execution_count": 3,
   "metadata": {},
   "outputs": [],
   "source": [
    "import os\n",
    "import glob\n",
    "\n",
    "    "
   ]
  },
  {
   "cell_type": "code",
   "execution_count": 8,
   "metadata": {},
   "outputs": [
    {
     "name": "stdout",
     "output_type": "stream",
     "text": [
      "../file_storage/\n",
      "../file_storage/RTP1-USD.json\n",
      "../file_storage/XRP-EUR.json\n",
      "../file_storage/KARMA-EUR.json\n",
      "../file_storage/COMP-USDT.json\n",
      "../file_storage/LTC-BTC.json\n",
      "../file_storage/TATNru-RUB.json\n",
      "../file_storage/GMKNru-RUB.json\n",
      "../file_storage/XRP-USD.json\n",
      "../file_storage/LKOHru-RUB.json\n",
      "../file_storage/NVTKru-RUB.json\n",
      "../file_storage/RTPF-USD.json\n",
      "../file_storage/KARMA-BYN.json\n",
      "../file_storage/ETH-USD.json\n",
      "../file_storage/USD\n",
      "../file_storage/USD/USD.json\n",
      "../file_storage/MSNGru-RUB.json\n",
      "../file_storage/market_id\n",
      "../file_storage/market_id/market_id.json\n",
      "../file_storage/RTPI-USD.json\n",
      "../file_storage/MOEXru-RUB.json\n",
      "../file_storage/GAZPru-RUB.json\n",
      "../file_storage/LSRGru-RUB.json\n",
      "../file_storage/BCH-USD.json\n",
      "../file_storage/BTC-EUR.json\n",
      "../file_storage/MAGNru-RUB.json\n",
      "../file_storage/BTC-USD.json\n",
      "../file_storage/AKRNru-RUB.json\n",
      "../file_storage/KARMA-RUB.json\n",
      "../file_storage/KARMA-ETH.json\n",
      "../file_storage/COMP-USD.json\n",
      "../file_storage/LINK-USDT.json\n",
      "../file_storage/RTPX-USD.json\n",
      "../file_storage/RTPE-USD.json\n",
      "../file_storage/LTC-USD.json\n",
      "../file_storage/BTC\n",
      "../file_storage/BTC/USDT.json\n",
      "../file_storage/BTC/BTC.json\n",
      "../file_storage/FEESru-RUB.json\n",
      "../file_storage/AFKSru-RUB.json\n",
      "../file_storage/ENRUru-RUB.json\n",
      "../file_storage/RTKMru-RUB.json\n",
      "../file_storage/BCH-BTC.json\n",
      "../file_storage/MRKCru-RUB.json\n",
      "../file_storage/CBOMru-RUB.json\n",
      "../file_storage/MRKUru-RUB.json\n",
      "../file_storage/SNGSru-RUB.json\n",
      "../file_storage/HYDRru-RUB.json\n",
      "../file_storage/VTBRru-RUB.json\n",
      "../file_storage/UNI-USD.json\n",
      "../file_storage/KARMA-BTC.json\n",
      "../file_storage/MTSSru-RUB.json\n",
      "../file_storage/DSKYru-RUB.json\n",
      "../file_storage/SIBNru-RUB.json\n",
      "../file_storage/MVIDru-RUB.json\n",
      "../file_storage/BTC-USDT.json\n",
      "../file_storage/SBERPru-RUB.json\n",
      "../file_storage/LINK-USD.json\n",
      "../file_storage/XRP-BTC.json\n",
      "../file_storage/ROSNru-RUB.json\n",
      "../file_storage/YNDXru-RUB.json\n",
      "../file_storage/UNI-USDT.json\n",
      "../file_storage/AFLTru-RUB.json\n",
      "../file_storage/SBERru-RUB.json\n",
      "../file_storage/BSPBru-RUB.json\n",
      "../file_storage/CHMFru-RUB.json\n",
      "../file_storage/ETH-EUR.json\n",
      "../file_storage/POLYru-RUB.json\n",
      "../file_storage/ALRSru-RUB.json\n",
      "../file_storage/KARMA-USD.json\n",
      "../file_storage/exchange_info.json\n",
      "../file_storage/IRAOru-RUB.json\n",
      "../file_storage/MSRSru-RUB.json\n",
      "../file_storage/MGNTru-RUB.json\n",
      "../file_storage/RTPC-USD.json\n",
      "../file_storage/ETH-BTC.json\n"
     ]
    }
   ],
   "source": [
    "file_storage_path = \"../file_storage/**\"\n",
    "\n",
    "for file in glob.iglob(file_storage_path, recursive=True):\n",
    "    print(file)\n",
    "    if \"../file_storage/exchange_info.json\" == file:\n",
    "        "
   ]
  }
 ],
 "metadata": {
  "kernelspec": {
   "display_name": "Python 3",
   "language": "python",
   "name": "python3"
  },
  "language_info": {
   "codemirror_mode": {
    "name": "ipython",
    "version": 3
   },
   "file_extension": ".py",
   "mimetype": "text/x-python",
   "name": "python",
   "nbconvert_exporter": "python",
   "pygments_lexer": "ipython3",
   "version": "3.8.5"
  }
 },
 "nbformat": 4,
 "nbformat_minor": 1
}